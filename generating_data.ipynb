{
 "cells": [
  {
   "cell_type": "markdown",
   "metadata": {},
   "source": [
    "# Generating Data to use for Model\n",
    "Here we synthesise data to use to test the model"
   ]
  },
  {
   "cell_type": "code",
   "execution_count": 7,
   "metadata": {},
   "outputs": [
    {
     "name": "stdout",
     "output_type": "stream",
     "text": [
      "Synthesised dataset saved to 'synthesised_dataset.csv'\n"
     ]
    }
   ],
   "source": [
    "import pandas as pd\n",
    "\n",
    "# Step 1: Load the original dataset to get column types\n",
    "df_actual = pd.read_csv(\"/Users/isaiah/Downloads/AmesHousing.csv\")\n",
    "dtypes_dict = df_actual.dtypes.to_dict()\n",
    "\n",
    "# Step 2: Sample 50 rows from the actual dataset\n",
    "df_sample = df_actual.sample(n=50, random_state=42)\n",
    "\n",
    "# Step 3: Drop the target column (if predicting)\n",
    "if 'SalePrice' in df_sample.columns:\n",
    "    df_sample = df_sample.drop('SalePrice', axis=1)\n",
    "\n",
    "# Step 4: Enforce the original data types on the sampled dataset\n",
    "for col, dtype in dtypes_dict.items():\n",
    "    if col in df_sample.columns:\n",
    "        try:\n",
    "            df_sample[col] = df_sample[col].astype(dtype)\n",
    "        except Exception as e:\n",
    "            print(f\"Could not convert column {col} to {dtype}: {e}\")\n",
    "\n",
    "# Step 5: Save the synthesised dataset\n",
    "df_sample.to_csv(\"synthesised_dataset.csv\", index=False)\n",
    "print(\"Synthesised dataset saved to 'synthesised_dataset.csv'\")\n"
   ]
  }
 ],
 "metadata": {
  "kernelspec": {
   "display_name": ".venv",
   "language": "python",
   "name": "python3"
  },
  "language_info": {
   "codemirror_mode": {
    "name": "ipython",
    "version": 3
   },
   "file_extension": ".py",
   "mimetype": "text/x-python",
   "name": "python",
   "nbconvert_exporter": "python",
   "pygments_lexer": "ipython3",
   "version": "3.12.8"
  }
 },
 "nbformat": 4,
 "nbformat_minor": 2
}
