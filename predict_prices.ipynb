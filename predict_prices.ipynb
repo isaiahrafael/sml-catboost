{
 "cells": [
  {
   "cell_type": "markdown",
   "metadata": {},
   "source": [
    "# Using the model to Predict Sale Prices\n",
    "We have synthesised a dataset and will use it to predict the prices"
   ]
  },
  {
   "cell_type": "code",
   "execution_count": 5,
   "metadata": {},
   "outputs": [],
   "source": [
    "import pandas as pd\n",
    "import numpy as np\n",
    "from catboost import CatBoostRegressor, Pool"
   ]
  },
  {
   "cell_type": "code",
   "execution_count": 6,
   "metadata": {},
   "outputs": [
    {
     "name": "stdout",
     "output_type": "stream",
     "text": [
      "✅ Predictions saved to 'synthesised_dataset_with_predictions.csv'\n"
     ]
    }
   ],
   "source": [
    "# Create an empty model instance\n",
    "model = CatBoostRegressor()\n",
    "\n",
    "# Load the trained model from file\n",
    "model.load_model(\"catboost_ames_model.cbm\")\n",
    "\n",
    "# === Step 1: Load original dataset and get dtypes ===\n",
    "df_actual = pd.read_csv(\"/Users/isaiah/Downloads/AmesHousing.csv\")\n",
    "dtypes_dict = df_actual.dtypes.to_dict()\n",
    "\n",
    "# === Step 2: Load synthesised dataset ===\n",
    "df_synth = pd.read_csv(\"synthesised_dataset.csv\")\n",
    "\n",
    "# === Step 3: Drop SalePrice if it exists ===\n",
    "if 'SalePrice' in df_synth.columns:\n",
    "    df_synth = df_synth.drop(\"SalePrice\", axis=1)\n",
    "\n",
    "# === Step 4: Enforce original data types ===\n",
    "for col, dtype in dtypes_dict.items():\n",
    "    if col in df_synth.columns:\n",
    "        try:\n",
    "            df_synth[col] = df_synth[col].astype(dtype)\n",
    "        except Exception as e:\n",
    "            print(f\"Could not convert {col} to {dtype}: {e}\")\n",
    "\n",
    "categorical_features = [\n",
    "    \"MSZoning\", \"Street\", \"Alley\", \"LotShape\", \"LandContour\", \"Utilities\",\n",
    "    \"LotConfig\", \"LandSlope\", \"Neighborhood\", \"Condition1\", \"Condition2\",\n",
    "    \"BldgType\", \"HouseStyle\", \"RoofStyle\", \"RoofMatl\", \"Exterior1st\", \"Exterior2nd\",\n",
    "    \"MasVnrType\", \"ExterQual\", \"ExterCond\", \"Foundation\", \"BsmtQual\", \"BsmtCond\",\n",
    "    \"BsmtExposure\", \"BsmtFinType1\", \"BsmtFinType2\", \"Heating\", \"HeatingQC\",\n",
    "    \"CentralAir\", \"Electrical\", \"KitchenQual\", \"Functional\", \"FireplaceQu\",\n",
    "    \"GarageType\", \"GarageFinish\", \"GarageQual\", \"GarageCond\", \"PavedDrive\",\n",
    "    \"PoolQC\", \"Fence\", \"MiscFeature\", \"SaleType\", \"SaleCondition\", \"Prop_Addr\"\n",
    "]\n",
    "\n",
    "# === Step 2: Ensure categorical features are strings and fill NaNs ===\n",
    "for col in categorical_features:\n",
    "    if col in df_synth.columns:\n",
    "        df_synth[col] = df_synth[col].astype(str).fillna(\"nan\")\n",
    "\n",
    "# === Step 3: Ensure numeric features are proper floats ===\n",
    "# Get numeric columns by excluding the known categoricals\n",
    "numeric_features = [col for col in df_synth.columns if col not in categorical_features]\n",
    "\n",
    "# Clean and convert numeric columns to float\n",
    "for col in numeric_features:\n",
    "    df_synth[col] = (\n",
    "        df_synth[col]\n",
    "        .astype(str)\n",
    "        .str.replace(\",\", \"\")   # remove commas\n",
    "        .str.strip()\n",
    "        .replace(\"nan\", None)   # replace string \"nan\" with actual None\n",
    "    )\n",
    "    df_synth[col] = pd.to_numeric(df_synth[col], errors=\"coerce\").astype(float)\n",
    "\n",
    "# === Step 4: Create CatBoost Pool ===\n",
    "pool = Pool(data=df_synth, cat_features=categorical_features)\n",
    "\n",
    "# === Step 5: Predict using your trained model ===\n",
    "predictions = model.predict(pool)\n",
    "\n",
    "# === Step 6: Add predictions and save to CSV ===\n",
    "df_synth[\"Predicted_SalePrice\"] = predictions\n",
    "df_synth.to_csv(\"synthesised_dataset_with_predictions.csv\", index=False)\n",
    "print(\"✅ Predictions saved to 'synthesised_dataset_with_predictions.csv'\")\n"
   ]
  }
 ],
 "metadata": {
  "kernelspec": {
   "display_name": ".venv",
   "language": "python",
   "name": "python3"
  },
  "language_info": {
   "codemirror_mode": {
    "name": "ipython",
    "version": 3
   },
   "file_extension": ".py",
   "mimetype": "text/x-python",
   "name": "python",
   "nbconvert_exporter": "python",
   "pygments_lexer": "ipython3",
   "version": "3.12.8"
  }
 },
 "nbformat": 4,
 "nbformat_minor": 2
}
