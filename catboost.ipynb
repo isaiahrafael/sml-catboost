{
 "cells": [
  {
   "cell_type": "code",
   "execution_count": 1,
   "metadata": {},
   "outputs": [
    {
     "name": "stdout",
     "output_type": "stream",
     "text": [
      "Collecting catboost\n",
      "  Using cached catboost-1.2.7-cp312-cp312-macosx_11_0_universal2.whl.metadata (1.2 kB)\n",
      "Collecting graphviz (from catboost)\n",
      "  Using cached graphviz-0.20.3-py3-none-any.whl.metadata (12 kB)\n",
      "Collecting matplotlib (from catboost)\n",
      "  Downloading matplotlib-3.10.1-cp312-cp312-macosx_11_0_arm64.whl.metadata (11 kB)\n",
      "Collecting numpy<2.0,>=1.16.0 (from catboost)\n",
      "  Using cached numpy-1.26.4-cp312-cp312-macosx_11_0_arm64.whl.metadata (61 kB)\n",
      "Collecting pandas>=0.24 (from catboost)\n",
      "  Using cached pandas-2.2.3-cp312-cp312-macosx_11_0_arm64.whl.metadata (89 kB)\n",
      "Collecting scipy (from catboost)\n",
      "  Downloading scipy-1.15.2-cp312-cp312-macosx_14_0_arm64.whl.metadata (61 kB)\n",
      "Collecting plotly (from catboost)\n",
      "  Using cached plotly-6.0.1-py3-none-any.whl.metadata (6.7 kB)\n",
      "Requirement already satisfied: six in ./.venv/lib/python3.12/site-packages (from catboost) (1.17.0)\n",
      "Requirement already satisfied: python-dateutil>=2.8.2 in ./.venv/lib/python3.12/site-packages (from pandas>=0.24->catboost) (2.9.0.post0)\n",
      "Collecting pytz>=2020.1 (from pandas>=0.24->catboost)\n",
      "  Using cached pytz-2025.2-py2.py3-none-any.whl.metadata (22 kB)\n",
      "Collecting tzdata>=2022.7 (from pandas>=0.24->catboost)\n",
      "  Using cached tzdata-2025.2-py2.py3-none-any.whl.metadata (1.4 kB)\n",
      "Collecting contourpy>=1.0.1 (from matplotlib->catboost)\n",
      "  Using cached contourpy-1.3.1-cp312-cp312-macosx_11_0_arm64.whl.metadata (5.4 kB)\n",
      "Collecting cycler>=0.10 (from matplotlib->catboost)\n",
      "  Using cached cycler-0.12.1-py3-none-any.whl.metadata (3.8 kB)\n",
      "Collecting fonttools>=4.22.0 (from matplotlib->catboost)\n",
      "  Using cached fonttools-4.56.0-cp312-cp312-macosx_10_13_universal2.whl.metadata (101 kB)\n",
      "Collecting kiwisolver>=1.3.1 (from matplotlib->catboost)\n",
      "  Using cached kiwisolver-1.4.8-cp312-cp312-macosx_11_0_arm64.whl.metadata (6.2 kB)\n",
      "Requirement already satisfied: packaging>=20.0 in ./.venv/lib/python3.12/site-packages (from matplotlib->catboost) (24.2)\n",
      "Collecting pillow>=8 (from matplotlib->catboost)\n",
      "  Using cached pillow-11.1.0-cp312-cp312-macosx_11_0_arm64.whl.metadata (9.1 kB)\n",
      "Collecting pyparsing>=2.3.1 (from matplotlib->catboost)\n",
      "  Using cached pyparsing-3.2.3-py3-none-any.whl.metadata (5.0 kB)\n",
      "Collecting narwhals>=1.15.1 (from plotly->catboost)\n",
      "  Using cached narwhals-1.32.0-py3-none-any.whl.metadata (9.2 kB)\n",
      "Using cached catboost-1.2.7-cp312-cp312-macosx_11_0_universal2.whl (27.0 MB)\n",
      "Using cached numpy-1.26.4-cp312-cp312-macosx_11_0_arm64.whl (13.7 MB)\n",
      "Using cached pandas-2.2.3-cp312-cp312-macosx_11_0_arm64.whl (11.4 MB)\n",
      "Using cached graphviz-0.20.3-py3-none-any.whl (47 kB)\n",
      "Downloading matplotlib-3.10.1-cp312-cp312-macosx_11_0_arm64.whl (8.0 MB)\n",
      "\u001b[2K   \u001b[90m━━━━━━━━━━━━━━━━━━━━━━━━━━━━━━━━━━━━━━━━\u001b[0m \u001b[32m8.0/8.0 MB\u001b[0m \u001b[31m12.3 MB/s\u001b[0m eta \u001b[36m0:00:00\u001b[0ma \u001b[36m0:00:01\u001b[0m\n",
      "\u001b[?25hUsing cached plotly-6.0.1-py3-none-any.whl (14.8 MB)\n",
      "Downloading scipy-1.15.2-cp312-cp312-macosx_14_0_arm64.whl (22.4 MB)\n",
      "\u001b[2K   \u001b[90m━━━━━━━━━━━━━━━━━━━━━━━━━━━━━━━━━━━━━━━━\u001b[0m \u001b[32m22.4/22.4 MB\u001b[0m \u001b[31m16.6 MB/s\u001b[0m eta \u001b[36m0:00:00\u001b[0ma \u001b[36m0:00:01\u001b[0m\n",
      "\u001b[?25hUsing cached contourpy-1.3.1-cp312-cp312-macosx_11_0_arm64.whl (255 kB)\n",
      "Using cached cycler-0.12.1-py3-none-any.whl (8.3 kB)\n",
      "Using cached fonttools-4.56.0-cp312-cp312-macosx_10_13_universal2.whl (2.7 MB)\n",
      "Using cached kiwisolver-1.4.8-cp312-cp312-macosx_11_0_arm64.whl (65 kB)\n",
      "Using cached narwhals-1.32.0-py3-none-any.whl (320 kB)\n",
      "Using cached pillow-11.1.0-cp312-cp312-macosx_11_0_arm64.whl (3.1 MB)\n",
      "Using cached pyparsing-3.2.3-py3-none-any.whl (111 kB)\n",
      "Using cached pytz-2025.2-py2.py3-none-any.whl (509 kB)\n",
      "Using cached tzdata-2025.2-py2.py3-none-any.whl (347 kB)\n",
      "Installing collected packages: pytz, tzdata, pyparsing, pillow, numpy, narwhals, kiwisolver, graphviz, fonttools, cycler, scipy, plotly, pandas, contourpy, matplotlib, catboost\n",
      "Successfully installed catboost-1.2.7 contourpy-1.3.1 cycler-0.12.1 fonttools-4.56.0 graphviz-0.20.3 kiwisolver-1.4.8 matplotlib-3.10.1 narwhals-1.32.0 numpy-1.26.4 pandas-2.2.3 pillow-11.1.0 plotly-6.0.1 pyparsing-3.2.3 pytz-2025.2 scipy-1.15.2 tzdata-2025.2\n"
     ]
    }
   ],
   "source": [
    "!pip install catboost"
   ]
  },
  {
   "cell_type": "code",
   "execution_count": 4,
   "metadata": {},
   "outputs": [
    {
     "name": "stdout",
     "output_type": "stream",
     "text": [
      "Collecting scikit-learn\n",
      "  Using cached scikit_learn-1.6.1-cp312-cp312-macosx_12_0_arm64.whl.metadata (31 kB)\n",
      "Requirement already satisfied: numpy>=1.19.5 in ./.venv/lib/python3.12/site-packages (from scikit-learn) (1.26.4)\n",
      "Requirement already satisfied: scipy>=1.6.0 in ./.venv/lib/python3.12/site-packages (from scikit-learn) (1.15.2)\n",
      "Collecting joblib>=1.2.0 (from scikit-learn)\n",
      "  Using cached joblib-1.4.2-py3-none-any.whl.metadata (5.4 kB)\n",
      "Collecting threadpoolctl>=3.1.0 (from scikit-learn)\n",
      "  Using cached threadpoolctl-3.6.0-py3-none-any.whl.metadata (13 kB)\n",
      "Using cached scikit_learn-1.6.1-cp312-cp312-macosx_12_0_arm64.whl (11.2 MB)\n",
      "Using cached joblib-1.4.2-py3-none-any.whl (301 kB)\n",
      "Using cached threadpoolctl-3.6.0-py3-none-any.whl (18 kB)\n",
      "Installing collected packages: threadpoolctl, joblib, scikit-learn\n",
      "Successfully installed joblib-1.4.2 scikit-learn-1.6.1 threadpoolctl-3.6.0\n"
     ]
    }
   ],
   "source": [
    "!pip install scikit-learn"
   ]
  },
  {
   "cell_type": "markdown",
   "metadata": {},
   "source": [
    "# House Hunter: Powered by CatBoost\n",
    "This project uses the CatBoost machine learning model to predict house prices in the Ames Housing dataset. It demonstrates how gradient boosting can effectively handle structured data with both numerical and categorical features, achieving strong predictive performance with minimal preprocessing."
   ]
  },
  {
   "cell_type": "markdown",
   "metadata": {},
   "source": [
    "## Load (install) Libraries\n",
    "- Ensure you have Sci-Kit Learn & CatBoost libraries installed in your environment. If not, you can install them using the following commands:\n",
    "\n",
    "- !pip install catboost\n",
    "- !pip install scikit-learn"
   ]
  },
  {
   "cell_type": "code",
   "execution_count": 1,
   "metadata": {},
   "outputs": [],
   "source": [
    "import pandas as pd\n",
    "import numpy as np\n",
    "from sklearn.model_selection import train_test_split\n",
    "from sklearn.metrics import *\n",
    "from catboost import CatBoostRegressor, Pool\n",
    "import matplotlib.pyplot as plt"
   ]
  },
  {
   "cell_type": "markdown",
   "metadata": {},
   "source": [
    "## Load Data"
   ]
  },
  {
   "cell_type": "code",
   "execution_count": 2,
   "metadata": {},
   "outputs": [
    {
     "data": {
      "text/plain": [
       "(2579, 85)"
      ]
     },
     "execution_count": 2,
     "metadata": {},
     "output_type": "execute_result"
    }
   ],
   "source": [
    "df = pd.read_csv(\"/Users/isaiah/Downloads/AmesHousing.csv\")  # Ensure the dataset is in your working directory\n",
    "\n",
    "# Drop rows with missing target\n",
    "df = df[df['SalePrice'].notnull()]\n",
    "df.shape\n"
   ]
  },
  {
   "cell_type": "markdown",
   "metadata": {},
   "source": [
    "## Feature & Target Split\n",
    "This part requires you to explore the data and identify the necessary columns"
   ]
  },
  {
   "cell_type": "code",
   "execution_count": 3,
   "metadata": {},
   "outputs": [],
   "source": [
    "X = df.drop(['PID', 'SalePrice'], axis=1)\n",
    "y = df['SalePrice']\n",
    "\n",
    "# Identify categorical columns\n",
    "cat_cols = X.select_dtypes(include='object').columns.tolist()\n",
    "\n",
    "# Convert all categorical columns to string and handle NaNs BEFORE train-test split\n",
    "for col in cat_cols:\n",
    "    X[col] = X[col].astype(str).fillna(\"nan\")\n",
    "\n",
    "# Now split\n",
    "X_train, X_test, y_train, y_test = train_test_split(\n",
    "    X, y, test_size=0.2, random_state=77\n",
    ")\n"
   ]
  },
  {
   "cell_type": "markdown",
   "metadata": {},
   "source": [
    "## Create Pools"
   ]
  },
  {
   "cell_type": "markdown",
   "metadata": {},
   "source": [
    "### Why Create Pools in CatBoost?\n",
    "\n",
    "When working with CatBoost, converting your dataset into a **Pool** object is an essential step. Here’s why:\n",
    "\n",
    "1. **Handling Categorical Features:**\n",
    "   - The Pool object allows you to specify which columns are categorical (using the `cat_features` parameter). CatBoost then applies its native techniques (such as target statistics and permutation-based encoding) to process these features, eliminating the need for manual one-hot encoding.\n",
    "\n",
    "2. **Efficient Data Management:**\n",
    "   - Pools are optimized for memory usage and speed. This means that data access during training is faster, which is especially important when working with larger datasets.\n",
    "\n",
    "3. **Consistent Data Processing:**\n",
    "   - Converting your data into a Pool ensures that both your training and validation/test sets are processed in the same manner. This consistency is crucial for accurate model evaluation and avoids discrepancies in how missing values or categorical data are handled.\n",
    "\n",
    "4. **Seamless Integration with CatBoost Features:**\n",
    "   - Pools enable CatBoost’s built-in functionalities, such as cross-validation, grid search, and early stopping. This integration makes the model tuning and evaluation process smoother and more efficient.\n",
    "\n",
    "---\n",
    "\n",
    "In summary, creating Pools helps leverage CatBoost’s strengths by managing categorical features properly, optimizing data access, ensuring consistent preprocessing, and integrating with advanced tuning methods.\n"
   ]
  },
  {
   "cell_type": "code",
   "execution_count": 4,
   "metadata": {},
   "outputs": [],
   "source": [
    "train_pool = Pool(X_train, y_train, cat_features=cat_cols)\n",
    "test_pool = Pool(X_test, cat_features=cat_cols)\n"
   ]
  },
  {
   "cell_type": "markdown",
   "metadata": {},
   "source": [
    "## Train CatBoost Model"
   ]
  },
  {
   "cell_type": "code",
   "execution_count": 5,
   "metadata": {},
   "outputs": [
    {
     "name": "stderr",
     "output_type": "stream",
     "text": [
      "Warning: Eval metric RMSE needs Target data, but test dataset does not have it so it won't be calculated\n"
     ]
    },
    {
     "name": "stdout",
     "output_type": "stream",
     "text": [
      "0:\tlearn: 71344.7548329\ttotal: 70ms\tremaining: 1m 9s\n",
      "100:\tlearn: 18794.7831446\ttotal: 717ms\tremaining: 6.38s\n",
      "200:\tlearn: 15040.9996350\ttotal: 1.36s\tremaining: 5.43s\n",
      "300:\tlearn: 12936.7603635\ttotal: 2.04s\tremaining: 4.73s\n",
      "400:\tlearn: 11591.4753103\ttotal: 2.7s\tremaining: 4.04s\n",
      "500:\tlearn: 10424.4020806\ttotal: 3.37s\tremaining: 3.36s\n",
      "600:\tlearn: 9602.1532022\ttotal: 4.04s\tremaining: 2.68s\n",
      "700:\tlearn: 8890.9086040\ttotal: 4.7s\tremaining: 2s\n",
      "800:\tlearn: 8277.3666964\ttotal: 5.36s\tremaining: 1.33s\n",
      "900:\tlearn: 7748.9442375\ttotal: 6.03s\tremaining: 662ms\n",
      "999:\tlearn: 7339.2705762\ttotal: 6.68s\tremaining: 0us\n"
     ]
    },
    {
     "data": {
      "text/plain": [
       "<catboost.core.CatBoostRegressor at 0x1586e2660>"
      ]
     },
     "execution_count": 5,
     "metadata": {},
     "output_type": "execute_result"
    }
   ],
   "source": [
    "model = CatBoostRegressor(\n",
    "    iterations=1000,\n",
    "    learning_rate=0.05,\n",
    "    depth=6,\n",
    "    loss_function='RMSE',\n",
    "    early_stopping_rounds=50,\n",
    "    verbose=100,\n",
    "    random_seed=77\n",
    ")\n",
    "\n",
    "model.fit(train_pool, eval_set=test_pool)"
   ]
  },
  {
   "cell_type": "markdown",
   "metadata": {},
   "source": [
    "## Evaluate the Model"
   ]
  },
  {
   "cell_type": "code",
   "execution_count": 6,
   "metadata": {},
   "outputs": [
    {
     "name": "stdout",
     "output_type": "stream",
     "text": [
      "Test RMSE: 20845.84\n"
     ]
    }
   ],
   "source": [
    "y_pred = model.predict(test_pool)\n",
    "rmse = root_mean_squared_error(y_test, y_pred)\n",
    "print(f\"Test RMSE: {rmse:.2f}\")"
   ]
  },
  {
   "cell_type": "markdown",
   "metadata": {},
   "source": [
    "## Find Most Important Features\n",
    "Here you can visualise which features contribute the most to the model"
   ]
  },
  {
   "cell_type": "markdown",
   "metadata": {},
   "source": [
    "### Why Do We Need Feature Importance?\n",
    "\n",
    "Feature importance is a key tool in machine learning model evaluation and interpretation. Here's why it's useful:\n",
    "\n",
    "1. **Understanding the Model:**\n",
    "   - It helps you understand which features (variables) are contributing the most to the model's predictions. This insight can make the model more transparent and easier to explain.\n",
    "\n",
    "2. **Model Interpretation:**\n",
    "   - For stakeholders or decision-makers, knowing which factors drive predictions can build trust in the model. For example, in a house price prediction model, knowing that \"Overall Quality\" or \"Living Area\" are important can validate domain knowledge.\n",
    "\n",
    "3. **Feature Selection:**\n",
    "   - It assists in identifying irrelevant or redundant features. Removing these features can simplify the model, potentially improving performance and reducing training time.\n",
    "\n",
    "4. **Data Insights:**\n",
    "   - Analyzing feature importance can reveal hidden patterns or relationships in your data. It might highlight surprising trends that could lead to further investigation or business insights.\n",
    "\n",
    "5. **Improving the Model:**\n",
    "   - By understanding which features are less important, you can focus on improving or engineering the features that matter most, which might further enhance the model’s accuracy and robustness.\n"
   ]
  },
  {
   "cell_type": "code",
   "execution_count": 7,
   "metadata": {},
   "outputs": [
    {
     "name": "stdout",
     "output_type": "stream",
     "text": [
      "     Feature Id  Importances\n",
      "0     GrLivArea    16.624697\n",
      "1   OverallQual    15.982575\n",
      "2     ExterQual     6.548239\n",
      "3   TotalBsmtSF     4.444040\n",
      "4  Neighborhood     3.994817\n",
      "5   FireplaceQu     3.872626\n",
      "6       LotArea     3.638312\n",
      "7    GarageArea     3.626618\n",
      "8      1stFlrSF     3.614246\n",
      "9    BsmtFinSF1     3.361599\n"
     ]
    }
   ],
   "source": [
    "feature_importances = model.get_feature_importance(prettified=True)\n",
    "print(feature_importances.head(10))\n",
    "\n",
    "# Optional: Save model\n",
    "# model.save_model(\"catboost_ames_model.cbm\")\n"
   ]
  },
  {
   "cell_type": "markdown",
   "metadata": {},
   "source": [
    "## Metric Evaluations\n",
    "We observe the metrics of our model to determine its accuracy"
   ]
  },
  {
   "cell_type": "code",
   "execution_count": 8,
   "metadata": {},
   "outputs": [
    {
     "name": "stdout",
     "output_type": "stream",
     "text": [
      "Approximate Accuracy: 93.45%\n",
      "R² Score: 0.9326\n"
     ]
    }
   ],
   "source": [
    "def mean_absolute_percentage_error(y_true, y_pred): \n",
    "    return np.mean(np.abs((y_true - y_pred) / y_true)) * 100\n",
    "\n",
    "mape = mean_absolute_percentage_error(y_test, y_pred)\n",
    "accuracy = 100 - mape\n",
    "r2 = r2_score(y_test, y_pred)\n",
    "\n",
    "print(f\"Approximate Accuracy: {accuracy:.2f}%\")\n",
    "print(f\"R² Score: {r2:.4f}\")"
   ]
  },
  {
   "cell_type": "markdown",
   "metadata": {},
   "source": [
    "## Visualise Accuracy of CatBoost Model"
   ]
  },
  {
   "cell_type": "code",
   "execution_count": 9,
   "metadata": {},
   "outputs": [
    {
     "data": {
      "image/png": "[encoded data removed]",
      "text/plain": [
       "<Figure size 600x600 with 1 Axes>"
      ]
     },
     "metadata": {},
     "output_type": "display_data"
    }
   ],
   "source": [
    "plt.figure(figsize=(6,6))\n",
    "plt.scatter(y_test, y_pred, alpha=0.5)\n",
    "plt.plot([y_test.min(), y_test.max()], [y_test.min(), y_test.max()], 'r--')\n",
    "plt.xlabel('Actual SalePrice')\n",
    "plt.ylabel('Predicted SalePrice')\n",
    "plt.title('Actual vs Predicted Prices')\n",
    "plt.grid(True)\n",
    "plt.show()\n"
   ]
  }
 ],
 "metadata": {
  "kernelspec": {
   "display_name": ".venv",
   "language": "python",
   "name": "python3"
  },
  "language_info": {
   "codemirror_mode": {
    "name": "ipython",
    "version": 3
   },
   "file_extension": ".py",
   "mimetype": "text/x-python",
   "name": "python",
   "nbconvert_exporter": "python",
   "pygments_lexer": "ipython3",
   "version": "3.12.8"
  }
 },
 "nbformat": 4,
 "nbformat_minor": 2
}
